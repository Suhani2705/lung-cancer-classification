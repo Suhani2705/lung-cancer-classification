{
  "cells": [
    {
      "cell_type": "code",
      "execution_count": null,
      "metadata": {
        "colab": {
          "base_uri": "https://localhost:8080/"
        },
        "id": "2sbfq1s4nD_0",
        "outputId": "77aa5e39-c1b2-4cfe-e2a1-613d3510c168"
      },
      "outputs": [
        {
          "name": "stdout",
          "output_type": "stream",
          "text": [
            "Drive already mounted at /content/drive; to attempt to forcibly remount, call drive.mount(\"/content/drive\", force_remount=True).\n"
          ]
        }
      ],
      "source": [
        "from google.colab import drive\n",
        "drive.mount('/content/drive')"
      ]
    },
    {
      "cell_type": "code",
      "execution_count": null,
      "metadata": {
        "id": "yeG9-jOmngzu"
      },
      "outputs": [],
      "source": [
        "import zipfile\n",
        "import os\n",
        "\n",
        "# Path to the zip file\n",
        "zip_path = '/content/drive/MyDrive/LC25000.zip'\n",
        "extract_path = '/content/lc2500_dataset'\n",
        "\n",
        "# Unzip the file\n",
        "with zipfile.ZipFile(zip_path, 'r') as zip_ref:\n",
        "    zip_ref.extractall(extract_path)"
      ]
    },
    {
      "cell_type": "code",
      "execution_count": null,
      "metadata": {
        "id": "TCq30np8nn3t"
      },
      "outputs": [],
      "source": [
        "lung_images_path = os.path.join(extract_path, 'lung_colon_image_set', 'lung_image_sets')"
      ]
    },
    {
      "cell_type": "code",
      "execution_count": null,
      "metadata": {
        "id": "QUMiXXbrnswz"
      },
      "outputs": [],
      "source": [
        "import tensorflow as tf\n",
        "from tensorflow.keras.applications import EfficientNetB0, VGG16, InceptionV3\n",
        "from tensorflow.keras.preprocessing.image import ImageDataGenerator\n",
        "from tensorflow.keras.layers import Dense, GlobalAveragePooling2D\n",
        "from tensorflow.keras.models import Model\n",
        "from tensorflow.keras.optimizers import Adam\n",
        "import matplotlib.pyplot as plt\n",
        "import numpy as np\n",
        "import seaborn as sns\n",
        "from sklearn.metrics import confusion_matrix, classification_report"
      ]
    },
    {
      "cell_type": "code",
      "execution_count": null,
      "metadata": {
        "colab": {
          "base_uri": "https://localhost:8080/"
        },
        "id": "pHzBki8Eo3_w",
        "outputId": "59fa7d81-d179-4115-af6d-ef0c6bdb5dd8"
      },
      "outputs": [
        {
          "name": "stdout",
          "output_type": "stream",
          "text": [
            "Found 12000 images belonging to 3 classes.\n",
            "Found 3000 images belonging to 3 classes.\n"
          ]
        }
      ],
      "source": [
        "train_datagen = ImageDataGenerator(\n",
        "    rescale=1./255,\n",
        "    rotation_range=20,\n",
        "    zoom_range=0.2,\n",
        "    horizontal_flip=True,\n",
        "    validation_split=0.2  #\n",
        ")\n",
        "\n",
        "\n",
        "train_generator = train_datagen.flow_from_directory(\n",
        "    lung_images_path,  # Path to lung cancer data\n",
        "    target_size=(224, 224),  # Resize images to match model input size\n",
        "    batch_size=32,\n",
        "    class_mode='categorical',\n",
        "    subset='training'\n",
        ")\n",
        "\n",
        "\n",
        "validation_generator = train_datagen.flow_from_directory(\n",
        "    lung_images_path,  # Path to lung cancer data\n",
        "    target_size=(224, 224),\n",
        "    batch_size=32,\n",
        "    class_mode='categorical',\n",
        "    subset='validation'\n",
        ")\n"
      ]
    },
    {
      "cell_type": "markdown",
      "metadata": {
        "id": "P31aRDuxq7Jz"
      },
      "source": [
        "**Model 1-EfficientNetB0**"
      ]
    },
    {
      "cell_type": "code",
      "execution_count": null,
      "metadata": {
        "colab": {
          "base_uri": "https://localhost:8080/"
        },
        "id": "ZXlb04fdpHSi",
        "outputId": "bc10b606-849a-4a84-97b7-319d3edd2af7"
      },
      "outputs": [
        {
          "name": "stdout",
          "output_type": "stream",
          "text": [
            "Downloading data from https://storage.googleapis.com/keras-applications/efficientnetb0_notop.h5\n",
            "\u001b[1m16705208/16705208\u001b[0m \u001b[32m━━━━━━━━━━━━━━━━━━━━\u001b[0m\u001b[37m\u001b[0m \u001b[1m2s\u001b[0m 0us/step\n"
          ]
        }
      ],
      "source": [
        "# Load pre-trained EfficientNetB0 model without the top layer\n",
        "base_model_1= EfficientNetB0(weights='imagenet', include_top=False, input_shape=(224, 224, 3))\n",
        "\n",
        "# Freeze the base model layers\n",
        "base_model_1.trainable = False\n",
        "\n",
        "\n",
        "x = base_model_1.output\n",
        "x = GlobalAveragePooling2D()(x)\n",
        "x = Dense(1024, activation='relu')(x)  # Adding a dense layer for better feature extraction\n",
        "predictions = Dense(train_generator.num_classes, activation='softmax')(x)  # Output layer for 3 classes (lung_scc, lung_n, lung_aca)"
      ]
    },
    {
      "cell_type": "code",
      "execution_count": null,
      "metadata": {
        "colab": {
          "base_uri": "https://localhost:8080/"
        },
        "id": "y3ZKbEaYpper",
        "outputId": "0463561d-690e-42ac-b977-01d8130bae81"
      },
      "outputs": [
        {
          "name": "stdout",
          "output_type": "stream",
          "text": [
            "Epoch 1/10\n"
          ]
        },
        {
          "name": "stderr",
          "output_type": "stream",
          "text": [
            "/usr/local/lib/python3.10/dist-packages/keras/src/trainers/data_adapters/py_dataset_adapter.py:121: UserWarning: Your `PyDataset` class should call `super().__init__(**kwargs)` in its constructor. `**kwargs` can include `workers`, `use_multiprocessing`, `max_queue_size`. Do not pass these arguments to `fit()`, as they will be ignored.\n",
            "  self._warn_if_super_not_called()\n"
          ]
        },
        {
          "name": "stdout",
          "output_type": "stream",
          "text": [
            "\u001b[1m375/375\u001b[0m \u001b[32m━━━━━━━━━━━━━━━━━━━━\u001b[0m\u001b[37m\u001b[0m \u001b[1m269s\u001b[0m 641ms/step - accuracy: 0.3199 - loss: 1.1070 - val_accuracy: 0.3333 - val_loss: 1.0987\n",
            "Epoch 2/10\n",
            "\u001b[1m375/375\u001b[0m \u001b[32m━━━━━━━━━━━━━━━━━━━━\u001b[0m\u001b[37m\u001b[0m \u001b[1m214s\u001b[0m 559ms/step - accuracy: 0.3298 - loss: 1.0988 - val_accuracy: 0.3333 - val_loss: 1.0986\n",
            "Epoch 3/10\n",
            "\u001b[1m375/375\u001b[0m \u001b[32m━━━━━━━━━━━━━━━━━━━━\u001b[0m\u001b[37m\u001b[0m \u001b[1m265s\u001b[0m 572ms/step - accuracy: 0.3344 - loss: 1.0989 - val_accuracy: 0.3333 - val_loss: 1.0987\n",
            "Epoch 4/10\n",
            "\u001b[1m375/375\u001b[0m \u001b[32m━━━━━━━━━━━━━━━━━━━━\u001b[0m\u001b[37m\u001b[0m \u001b[1m260s\u001b[0m 568ms/step - accuracy: 0.3282 - loss: 1.0988 - val_accuracy: 0.3333 - val_loss: 1.0986\n",
            "Epoch 5/10\n",
            "\u001b[1m375/375\u001b[0m \u001b[32m━━━━━━━━━━━━━━━━━━━━\u001b[0m\u001b[37m\u001b[0m \u001b[1m262s\u001b[0m 569ms/step - accuracy: 0.3263 - loss: 1.0989 - val_accuracy: 0.3333 - val_loss: 1.0986\n",
            "Epoch 6/10\n",
            "\u001b[1m375/375\u001b[0m \u001b[32m━━━━━━━━━━━━━━━━━━━━\u001b[0m\u001b[37m\u001b[0m \u001b[1m264s\u001b[0m 572ms/step - accuracy: 0.3289 - loss: 1.0987 - val_accuracy: 0.3333 - val_loss: 1.0986\n",
            "Epoch 7/10\n",
            "\u001b[1m375/375\u001b[0m \u001b[32m━━━━━━━━━━━━━━━━━━━━\u001b[0m\u001b[37m\u001b[0m \u001b[1m215s\u001b[0m 564ms/step - accuracy: 0.3357 - loss: 1.0986 - val_accuracy: 0.3333 - val_loss: 1.0986\n",
            "Epoch 8/10\n",
            "\u001b[1m375/375\u001b[0m \u001b[32m━━━━━━━━━━━━━━━━━━━━\u001b[0m\u001b[37m\u001b[0m \u001b[1m303s\u001b[0m 671ms/step - accuracy: 0.3303 - loss: 1.0987 - val_accuracy: 0.3333 - val_loss: 1.0986\n",
            "Epoch 9/10\n",
            "\u001b[1m375/375\u001b[0m \u001b[32m━━━━━━━━━━━━━━━━━━━━\u001b[0m\u001b[37m\u001b[0m \u001b[1m223s\u001b[0m 568ms/step - accuracy: 0.3279 - loss: 1.0987 - val_accuracy: 0.3333 - val_loss: 1.0986\n",
            "Epoch 10/10\n",
            "\u001b[1m375/375\u001b[0m \u001b[32m━━━━━━━━━━━━━━━━━━━━\u001b[0m\u001b[37m\u001b[0m \u001b[1m214s\u001b[0m 561ms/step - accuracy: 0.3336 - loss: 1.0987 - val_accuracy: 0.3333 - val_loss: 1.0986\n"
          ]
        },
        {
          "data": {
            "text/plain": [
              "<keras.src.callbacks.history.History at 0x79ed059718a0>"
            ]
          },
          "execution_count": 8,
          "metadata": {},
          "output_type": "execute_result"
        }
      ],
      "source": [
        "model_1= Model(inputs=base_model_1.input, outputs=predictions)\n",
        "\n",
        "model_1.compile(optimizer=Adam(), loss='categorical_crossentropy', metrics=['accuracy'])\n",
        "\n",
        "model_1.fit(train_generator, validation_data=validation_generator, epochs=10)"
      ]
    },
    {
      "cell_type": "code",
      "execution_count": null,
      "metadata": {
        "id": "4vyu4xH4LLfH"
      },
      "outputs": [],
      "source": [
        "# Save the model after initial training\n",
        "model_1.save('/content/drive/MyDrive/EfficientNetB0_initial.keras')"
      ]
    },
    {
      "cell_type": "code",
      "execution_count": null,
      "metadata": {
        "colab": {
          "base_uri": "https://localhost:8080/"
        },
        "id": "UHUuSVxbqE3V",
        "outputId": "43509063-3da2-43f9-bfd7-ba3a25ee900e"
      },
      "outputs": [
        {
          "name": "stdout",
          "output_type": "stream",
          "text": [
            "Epoch 1/10\n",
            "\u001b[1m375/375\u001b[0m \u001b[32m━━━━━━━━━━━━━━━━━━━━\u001b[0m\u001b[37m\u001b[0m \u001b[1m318s\u001b[0m 629ms/step - accuracy: 0.7704 - loss: 0.6280 - val_accuracy: 0.3473 - val_loss: 238.1977\n",
            "Epoch 2/10\n",
            "\u001b[1m375/375\u001b[0m \u001b[32m━━━━━━━━━━━━━━━━━━━━\u001b[0m\u001b[37m\u001b[0m \u001b[1m266s\u001b[0m 594ms/step - accuracy: 0.9419 - loss: 0.1659 - val_accuracy: 0.4920 - val_loss: 9.1065\n",
            "Epoch 3/10\n",
            "\u001b[1m375/375\u001b[0m \u001b[32m━━━━━━━━━━━━━━━━━━━━\u001b[0m\u001b[37m\u001b[0m \u001b[1m266s\u001b[0m 607ms/step - accuracy: 0.9602 - loss: 0.1073 - val_accuracy: 0.9707 - val_loss: 0.0786\n",
            "Epoch 4/10\n",
            "\u001b[1m375/375\u001b[0m \u001b[32m━━━━━━━━━━━━━━━━━━━━\u001b[0m\u001b[37m\u001b[0m \u001b[1m226s\u001b[0m 594ms/step - accuracy: 0.9705 - loss: 0.0887 - val_accuracy: 0.9850 - val_loss: 0.0464\n",
            "Epoch 5/10\n",
            "\u001b[1m375/375\u001b[0m \u001b[32m━━━━━━━━━━━━━━━━━━━━\u001b[0m\u001b[37m\u001b[0m \u001b[1m226s\u001b[0m 594ms/step - accuracy: 0.9740 - loss: 0.0705 - val_accuracy: 0.9887 - val_loss: 0.0343\n",
            "Epoch 6/10\n",
            "\u001b[1m375/375\u001b[0m \u001b[32m━━━━━━━━━━━━━━━━━━━━\u001b[0m\u001b[37m\u001b[0m \u001b[1m262s\u001b[0m 595ms/step - accuracy: 0.9781 - loss: 0.0597 - val_accuracy: 0.9927 - val_loss: 0.0246\n",
            "Epoch 7/10\n",
            "\u001b[1m375/375\u001b[0m \u001b[32m━━━━━━━━━━━━━━━━━━━━\u001b[0m\u001b[37m\u001b[0m \u001b[1m264s\u001b[0m 601ms/step - accuracy: 0.9838 - loss: 0.0483 - val_accuracy: 0.9930 - val_loss: 0.0168\n",
            "Epoch 8/10\n",
            "\u001b[1m375/375\u001b[0m \u001b[32m━━━━━━━━━━━━━━━━━━━━\u001b[0m\u001b[37m\u001b[0m \u001b[1m262s\u001b[0m 602ms/step - accuracy: 0.9853 - loss: 0.0427 - val_accuracy: 0.9950 - val_loss: 0.0159\n",
            "Epoch 9/10\n",
            "\u001b[1m375/375\u001b[0m \u001b[32m━━━━━━━━━━━━━━━━━━━━\u001b[0m\u001b[37m\u001b[0m \u001b[1m232s\u001b[0m 611ms/step - accuracy: 0.9863 - loss: 0.0377 - val_accuracy: 0.9953 - val_loss: 0.0146\n",
            "Epoch 10/10\n",
            "\u001b[1m375/375\u001b[0m \u001b[32m━━━━━━━━━━━━━━━━━━━━\u001b[0m\u001b[37m\u001b[0m \u001b[1m259s\u001b[0m 598ms/step - accuracy: 0.9919 - loss: 0.0255 - val_accuracy: 0.9967 - val_loss: 0.0104\n"
          ]
        },
        {
          "data": {
            "text/plain": [
              "<keras.src.callbacks.history.History at 0x79ecfc18ac80>"
            ]
          },
          "execution_count": 11,
          "metadata": {},
          "output_type": "execute_result"
        }
      ],
      "source": [
        "#Fine Tuning\n",
        "base_model_1.trainable = True\n",
        "\n",
        "model_1.compile(optimizer=Adam(1e-5), loss='categorical_crossentropy', metrics=['accuracy'])\n",
        "model_1.fit(train_generator, validation_data=validation_generator, epochs=10)\n"
      ]
    },
    {
      "cell_type": "code",
      "execution_count": null,
      "metadata": {
        "id": "scxcdP2MYgVW"
      },
      "outputs": [],
      "source": [
        "model_1.save('/content/drive/MyDrive/EfficientNetB0_finetuned.keras')"
      ]
    },
    {
      "cell_type": "code",
      "execution_count": null,
      "metadata": {
        "colab": {
          "base_uri": "https://localhost:8080/"
        },
        "id": "4ZTlK9Fhrh20",
        "outputId": "da7fac4b-a549-42e4-a99a-a9e8aaf0e5bc"
      },
      "outputs": [
        {
          "name": "stdout",
          "output_type": "stream",
          "text": [
            "\u001b[1m94/94\u001b[0m \u001b[32m━━━━━━━━━━━━━━━━━━━━\u001b[0m\u001b[37m\u001b[0m \u001b[1m45s\u001b[0m 481ms/step - accuracy: 0.9979 - loss: 0.0102\n",
            "Validation Accuracy: 0.9953333139419556\n",
            "\u001b[1m375/375\u001b[0m \u001b[32m━━━━━━━━━━━━━━━━━━━━\u001b[0m\u001b[37m\u001b[0m \u001b[1m172s\u001b[0m 460ms/step - accuracy: 0.9990 - loss: 0.0066\n",
            "Training Accuracy: 0.9987499713897705\n"
          ]
        }
      ],
      "source": [
        "val_loss, val_accuracy = model_1.evaluate(validation_generator)\n",
        "print(f\"Validation Accuracy: {val_accuracy}\")\n",
        "train_loss, train_accuracy = model_1.evaluate(train_generator)\n",
        "print(f\"Training Accuracy: {train_accuracy}\")"
      ]
    },
    {
      "cell_type": "code",
      "execution_count": null,
      "metadata": {
        "colab": {
          "base_uri": "https://localhost:8080/",
          "height": 790
        },
        "id": "MBQOZbBDvE6L",
        "outputId": "3a85180c-a084-44f0-8b68-db9d7f1c449f"
      },
      "outputs": [
        {
          "name": "stdout",
          "output_type": "stream",
          "text": [
            "\u001b[1m94/94\u001b[0m \u001b[32m━━━━━━━━━━━━━━━━━━━━\u001b[0m\u001b[37m\u001b[0m \u001b[1m54s\u001b[0m 499ms/step\n"
          ]
        },
        {
          "data": {
            "image/png": "[encoded data removed]",
            "text/plain": [
              "<Figure size 800x600 with 2 Axes>"
            ]
          },
          "metadata": {},
          "output_type": "display_data"
        },
        {
          "name": "stdout",
          "output_type": "stream",
          "text": [
            "\n",
            "Classification Report:\n",
            "               precision    recall  f1-score   support\n",
            "\n",
            "    lung_aca       0.32      0.32      0.32      1000\n",
            "      lung_n       0.34      0.34      0.34      1000\n",
            "    lung_scc       0.35      0.35      0.35      1000\n",
            "\n",
            "    accuracy                           0.33      3000\n",
            "   macro avg       0.33      0.33      0.33      3000\n",
            "weighted avg       0.33      0.33      0.33      3000\n",
            "\n"
          ]
        }
      ],
      "source": [
        "from sklearn.metrics import confusion_matrix,classification_report\n",
        "import seaborn as sns\n",
        "import numpy as np\n",
        "import matplotlib.pyplot as plt\n",
        "# Predict on validation data\n",
        "val_preds = model_1.predict(validation_generator)\n",
        "val_preds_classes =np.argmax(val_preds, axis=1)\n",
        "true_classes = validation_generator.classes\n",
        "\n",
        "\n",
        "# Create confusion matrix\n",
        "cm = confusion_matrix(true_classes, val_preds_classes)\n",
        "class_names = list(validation_generator.class_indices.keys())\n",
        "\n",
        "# Plot confusion matrix\n",
        "plt.figure(figsize=(8, 6))\n",
        "sns.heatmap(cm, annot=True, fmt='d', cmap='Blues', xticklabels=class_names, yticklabels=class_names)\n",
        "plt.xlabel('Predicted Label')\n",
        "plt.ylabel('True Label')\n",
        "plt.title('Confusion Matrix')\n",
        "plt.show()\n",
        "\n",
        "# Classification report\n",
        "print(\"\\nClassification Report:\\n\", classification_report(true_classes, val_preds_classes, target_names=validation_generator.class_indices.keys()))"
      ]
    },
    {
      "cell_type": "markdown",
      "metadata": {
        "id": "SpgccBAfrC66"
      },
      "source": [
        "**Model 2- VGG16**"
      ]
    },
    {
      "cell_type": "code",
      "execution_count": null,
      "metadata": {
        "colab": {
          "base_uri": "https://localhost:8080/"
        },
        "id": "aoyPr3sPqvHC",
        "outputId": "2da70c8d-9e03-4912-9c96-eaaf769c0000"
      },
      "outputs": [
        {
          "name": "stdout",
          "output_type": "stream",
          "text": [
            "Downloading data from https://storage.googleapis.com/tensorflow/keras-applications/vgg16/vgg16_weights_tf_dim_ordering_tf_kernels_notop.h5\n",
            "\u001b[1m58889256/58889256\u001b[0m \u001b[32m━━━━━━━━━━━━━━━━━━━━\u001b[0m\u001b[37m\u001b[0m \u001b[1m4s\u001b[0m 0us/step\n"
          ]
        }
      ],
      "source": [
        "base_model_2= VGG16(weights='imagenet', include_top=False, input_shape=(224, 224, 3))\n",
        "base_model_2.trainable = False\n",
        "x = base_model_2.output\n",
        "x = GlobalAveragePooling2D()(x)\n",
        "x = Dense(1024, activation='relu')(x)\n",
        "predictions = Dense(train_generator.num_classes, activation='softmax')(x)"
      ]
    },
    {
      "cell_type": "code",
      "execution_count": null,
      "metadata": {
        "colab": {
          "base_uri": "https://localhost:8080/"
        },
        "id": "FVWjmriXs_c-",
        "outputId": "01bd0618-7d58-41b7-90dc-79cd2bdfa662"
      },
      "outputs": [
        {
          "name": "stdout",
          "output_type": "stream",
          "text": [
            "Epoch 1/10\n"
          ]
        },
        {
          "name": "stderr",
          "output_type": "stream",
          "text": [
            "/usr/local/lib/python3.10/dist-packages/keras/src/trainers/data_adapters/py_dataset_adapter.py:121: UserWarning: Your `PyDataset` class should call `super().__init__(**kwargs)` in its constructor. `**kwargs` can include `workers`, `use_multiprocessing`, `max_queue_size`. Do not pass these arguments to `fit()`, as they will be ignored.\n",
            "  self._warn_if_super_not_called()\n"
          ]
        },
        {
          "name": "stdout",
          "output_type": "stream",
          "text": [
            "\u001b[1m375/375\u001b[0m \u001b[32m━━━━━━━━━━━━━━━━━━━━\u001b[0m\u001b[37m\u001b[0m \u001b[1m293s\u001b[0m 734ms/step - accuracy: 0.8843 - loss: 0.3026 - val_accuracy: 0.9553 - val_loss: 0.1179\n",
            "Epoch 2/10\n",
            "\u001b[1m375/375\u001b[0m \u001b[32m━━━━━━━━━━━━━━━━━━━━\u001b[0m\u001b[37m\u001b[0m \u001b[1m231s\u001b[0m 610ms/step - accuracy: 0.9535 - loss: 0.1176 - val_accuracy: 0.9527 - val_loss: 0.1158\n",
            "Epoch 3/10\n",
            "\u001b[1m375/375\u001b[0m \u001b[32m━━━━━━━━━━━━━━━━━━━━\u001b[0m\u001b[37m\u001b[0m \u001b[1m258s\u001b[0m 601ms/step - accuracy: 0.9539 - loss: 0.1197 - val_accuracy: 0.9483 - val_loss: 0.1244\n",
            "Epoch 4/10\n",
            "\u001b[1m375/375\u001b[0m \u001b[32m━━━━━━━━━━━━━━━━━━━━\u001b[0m\u001b[37m\u001b[0m \u001b[1m298s\u001b[0m 698ms/step - accuracy: 0.9551 - loss: 0.1115 - val_accuracy: 0.9410 - val_loss: 0.1408\n",
            "Epoch 5/10\n",
            "\u001b[1m375/375\u001b[0m \u001b[32m━━━━━━━━━━━━━━━━━━━━\u001b[0m\u001b[37m\u001b[0m \u001b[1m285s\u001b[0m 597ms/step - accuracy: 0.9550 - loss: 0.1089 - val_accuracy: 0.9483 - val_loss: 0.1232\n",
            "Epoch 6/10\n",
            "\u001b[1m375/375\u001b[0m \u001b[32m━━━━━━━━━━━━━━━━━━━━\u001b[0m\u001b[37m\u001b[0m \u001b[1m230s\u001b[0m 605ms/step - accuracy: 0.9598 - loss: 0.0994 - val_accuracy: 0.9643 - val_loss: 0.0905\n",
            "Epoch 7/10\n",
            "\u001b[1m375/375\u001b[0m \u001b[32m━━━━━━━━━━━━━━━━━━━━\u001b[0m\u001b[37m\u001b[0m \u001b[1m236s\u001b[0m 620ms/step - accuracy: 0.9626 - loss: 0.0930 - val_accuracy: 0.9233 - val_loss: 0.1908\n",
            "Epoch 8/10\n",
            "\u001b[1m375/375\u001b[0m \u001b[32m━━━━━━━━━━━━━━━━━━━━\u001b[0m\u001b[37m\u001b[0m \u001b[1m298s\u001b[0m 716ms/step - accuracy: 0.9608 - loss: 0.1020 - val_accuracy: 0.9570 - val_loss: 0.0924\n",
            "Epoch 9/10\n",
            "\u001b[1m375/375\u001b[0m \u001b[32m━━━━━━━━━━━━━━━━━━━━\u001b[0m\u001b[37m\u001b[0m \u001b[1m267s\u001b[0m 706ms/step - accuracy: 0.9665 - loss: 0.0835 - val_accuracy: 0.9640 - val_loss: 0.0879\n",
            "Epoch 10/10\n",
            "\u001b[1m375/375\u001b[0m \u001b[32m━━━━━━━━━━━━━━━━━━━━\u001b[0m\u001b[37m\u001b[0m \u001b[1m289s\u001b[0m 611ms/step - accuracy: 0.9664 - loss: 0.0806 - val_accuracy: 0.9373 - val_loss: 0.1553\n"
          ]
        },
        {
          "data": {
            "text/plain": [
              "<keras.src.callbacks.history.History at 0x79ed96bddb70>"
            ]
          },
          "execution_count": 22,
          "metadata": {},
          "output_type": "execute_result"
        }
      ],
      "source": [
        "model_2= Model(inputs=base_model_2.input, outputs=predictions)\n",
        "model_2.compile(optimizer=Adam(), loss='categorical_crossentropy', metrics=['accuracy'])\n",
        "model_2.fit(train_generator, validation_data=validation_generator, epochs=10)"
      ]
    },
    {
      "cell_type": "code",
      "execution_count": null,
      "metadata": {
        "id": "XBl776zch-RC"
      },
      "outputs": [],
      "source": [
        "model_2.save('/content/drive/MyDrive/VGG16.keras')"
      ]
    },
    {
      "cell_type": "code",
      "execution_count": null,
      "metadata": {
        "colab": {
          "base_uri": "https://localhost:8080/"
        },
        "id": "wxKqMRqjtgGN",
        "outputId": "85afd072-8029-40df-8588-7e8c6513bbcf"
      },
      "outputs": [
        {
          "name": "stdout",
          "output_type": "stream",
          "text": [
            "\u001b[1m94/94\u001b[0m \u001b[32m━━━━━━━━━━━━━━━━━━━━\u001b[0m\u001b[37m\u001b[0m \u001b[1m47s\u001b[0m 502ms/step - accuracy: 0.9462 - loss: 0.1446\n",
            "Validation Accuracy: 0.9409999847412109\n",
            "\u001b[1m375/375\u001b[0m \u001b[32m━━━━━━━━━━━━━━━━━━━━\u001b[0m\u001b[37m\u001b[0m \u001b[1m185s\u001b[0m 492ms/step - accuracy: 0.9453 - loss: 0.1434\n",
            "Training Accuracy: 0.9456666707992554\n"
          ]
        }
      ],
      "source": [
        "val_loss, val_accuracy = model_2.evaluate(validation_generator)\n",
        "print(f\"Validation Accuracy: {val_accuracy}\")\n",
        "train_loss, train_accuracy = model_2.evaluate(train_generator)\n",
        "print(f\"Training Accuracy: {train_accuracy}\")"
      ]
    },
    {
      "cell_type": "code",
      "execution_count": null,
      "metadata": {
        "colab": {
          "base_uri": "https://localhost:8080/",
          "height": 859
        },
        "id": "10EoSYpmt1pY",
        "outputId": "76d7fab1-a2a9-4711-fe68-a0742eea0f94"
      },
      "outputs": [
        {
          "name": "stdout",
          "output_type": "stream",
          "text": [
            "\u001b[1m94/94\u001b[0m \u001b[32m━━━━━━━━━━━━━━━━━━━━\u001b[0m\u001b[37m\u001b[0m \u001b[1m42s\u001b[0m 444ms/step\n",
            "Confusion Matrix:\n",
            " [[385 353 262]\n",
            " [401 321 278]\n",
            " [409 306 285]]\n"
          ]
        },
        {
          "data": {
            "image/png": "[encoded data removed]",
            "text/plain": [
              "<Figure size 800x600 with 2 Axes>"
            ]
          },
          "metadata": {},
          "output_type": "display_data"
        },
        {
          "name": "stdout",
          "output_type": "stream",
          "text": [
            "\n",
            "Classification Report:\n",
            "               precision    recall  f1-score   support\n",
            "\n",
            "    lung_aca       0.32      0.39      0.35      1000\n",
            "      lung_n       0.33      0.32      0.32      1000\n",
            "    lung_scc       0.35      0.28      0.31      1000\n",
            "\n",
            "    accuracy                           0.33      3000\n",
            "   macro avg       0.33      0.33      0.33      3000\n",
            "weighted avg       0.33      0.33      0.33      3000\n",
            "\n"
          ]
        }
      ],
      "source": [
        "val_preds = model_2.predict(validation_generator)\n",
        "val_preds_classes = np.argmax(val_preds, axis=1)  # Get the index of the class with the highest prediction score\n",
        "val_true_classes = validation_generator.classes  # Get the true class labels\n",
        "\n",
        "# Confusion Matrix\n",
        "cm = confusion_matrix(val_true_classes, val_preds_classes)\n",
        "print(\"Confusion Matrix:\\n\", cm)\n",
        "\n",
        "# Plot confusion matrix\n",
        "plt.figure(figsize=(8, 6))\n",
        "sns.heatmap(cm, annot=True, fmt='d', cmap='Blues', xticklabels=validation_generator.class_indices.keys(),\n",
        "            yticklabels=validation_generator.class_indices.keys())\n",
        "plt.ylabel('Actual')\n",
        "plt.xlabel('Predicted')\n",
        "plt.title('Confusion Matrix')\n",
        "plt.show()\n",
        "\n",
        "# Classification report\n",
        "print(\"\\nClassification Report:\\n\", classification_report(val_true_classes, val_preds_classes, target_names=validation_generator.class_indices.keys()))"
      ]
    },
    {
      "cell_type": "markdown",
      "metadata": {
        "id": "eMCcWvF3t9uB"
      },
      "source": [
        "**Model 3- InceptionV3**"
      ]
    },
    {
      "cell_type": "code",
      "execution_count": null,
      "metadata": {
        "colab": {
          "base_uri": "https://localhost:8080/"
        },
        "id": "YkeO2BEyuE6E",
        "outputId": "464f3a8c-c271-4961-aaab-3d3531eeb2a4"
      },
      "outputs": [
        {
          "name": "stdout",
          "output_type": "stream",
          "text": [
            "Downloading data from https://storage.googleapis.com/tensorflow/keras-applications/inception_v3/inception_v3_weights_tf_dim_ordering_tf_kernels_notop.h5\n",
            "\u001b[1m87910968/87910968\u001b[0m \u001b[32m━━━━━━━━━━━━━━━━━━━━\u001b[0m\u001b[37m\u001b[0m \u001b[1m1s\u001b[0m 0us/step\n"
          ]
        }
      ],
      "source": [
        "# Load the InceptionV3 model without the top layer (ImageNet weights)\n",
        "base_model_3 = InceptionV3(weights='imagenet', include_top=False, input_shape=(224, 224, 3))\n",
        "\n",
        "# Freeze the base model layers\n",
        "base_model_3 .trainable = False\n",
        "\n",
        "# Add custom layers on top of InceptionV3\n",
        "x = base_model_3.output\n",
        "x = GlobalAveragePooling2D()(x)\n",
        "x = Dense(1024, activation='relu')(x)  # Dense layer for feature extraction\n",
        "predictions = Dense(train_generator.num_classes, activation='softmax')(x)  # Output layer for your classes\n",
        "\n",
        "# Create the full model\n",
        "model_3= Model(inputs=base_model_3.input, outputs=predictions)"
      ]
    },
    {
      "cell_type": "code",
      "execution_count": null,
      "metadata": {
        "colab": {
          "base_uri": "https://localhost:8080/"
        },
        "id": "Qfenc6BIuOto",
        "outputId": "f1e3fed6-3037-44bd-ad35-dde80dcebe4f"
      },
      "outputs": [
        {
          "name": "stdout",
          "output_type": "stream",
          "text": [
            "Epoch 1/10\n"
          ]
        },
        {
          "name": "stderr",
          "output_type": "stream",
          "text": [
            "/usr/local/lib/python3.10/dist-packages/keras/src/trainers/data_adapters/py_dataset_adapter.py:121: UserWarning: Your `PyDataset` class should call `super().__init__(**kwargs)` in its constructor. `**kwargs` can include `workers`, `use_multiprocessing`, `max_queue_size`. Do not pass these arguments to `fit()`, as they will be ignored.\n",
            "  self._warn_if_super_not_called()\n"
          ]
        },
        {
          "name": "stdout",
          "output_type": "stream",
          "text": [
            "\u001b[1m375/375\u001b[0m \u001b[32m━━━━━━━━━━━━━━━━━━━━\u001b[0m\u001b[37m\u001b[0m \u001b[1m2505s\u001b[0m 7s/step - accuracy: 0.8190 - loss: 0.7045 - val_accuracy: 0.9277 - val_loss: 0.1764\n",
            "Epoch 2/10\n",
            "\u001b[1m375/375\u001b[0m \u001b[32m━━━━━━━━━━━━━━━━━━━━\u001b[0m\u001b[37m\u001b[0m \u001b[1m2477s\u001b[0m 6s/step - accuracy: 0.9281 - loss: 0.1724 - val_accuracy: 0.9333 - val_loss: 0.1625\n",
            "Epoch 3/10\n",
            "\u001b[1m375/375\u001b[0m \u001b[32m━━━━━━━━━━━━━━━━━━━━\u001b[0m\u001b[37m\u001b[0m \u001b[1m2411s\u001b[0m 6s/step - accuracy: 0.9425 - loss: 0.1450 - val_accuracy: 0.9283 - val_loss: 0.1738\n",
            "Epoch 4/10\n",
            "\u001b[1m375/375\u001b[0m \u001b[32m━━━━━━━━━━━━━━━━━━━━\u001b[0m\u001b[37m\u001b[0m \u001b[1m2375s\u001b[0m 6s/step - accuracy: 0.9487 - loss: 0.1282 - val_accuracy: 0.9490 - val_loss: 0.1281\n",
            "Epoch 5/10\n",
            "\u001b[1m375/375\u001b[0m \u001b[32m━━━━━━━━━━━━━━━━━━━━\u001b[0m\u001b[37m\u001b[0m \u001b[1m2308s\u001b[0m 6s/step - accuracy: 0.9487 - loss: 0.1300 - val_accuracy: 0.9503 - val_loss: 0.1344\n",
            "Epoch 6/10\n",
            "\u001b[1m375/375\u001b[0m \u001b[32m━━━━━━━━━━━━━━━━━━━━\u001b[0m\u001b[37m\u001b[0m \u001b[1m2298s\u001b[0m 6s/step - accuracy: 0.9553 - loss: 0.1124 - val_accuracy: 0.9533 - val_loss: 0.1154\n",
            "Epoch 7/10\n",
            "\u001b[1m375/375\u001b[0m \u001b[32m━━━━━━━━━━━━━━━━━━━━\u001b[0m\u001b[37m\u001b[0m \u001b[1m2316s\u001b[0m 6s/step - accuracy: 0.9543 - loss: 0.1133 - val_accuracy: 0.9617 - val_loss: 0.1099\n",
            "Epoch 8/10\n",
            "\u001b[1m375/375\u001b[0m \u001b[32m━━━━━━━━━━━━━━━━━━━━\u001b[0m\u001b[37m\u001b[0m \u001b[1m2305s\u001b[0m 6s/step - accuracy: 0.9575 - loss: 0.1075 - val_accuracy: 0.9427 - val_loss: 0.1380\n",
            "Epoch 9/10\n",
            "\u001b[1m375/375\u001b[0m \u001b[32m━━━━━━━━━━━━━━━━━━━━\u001b[0m\u001b[37m\u001b[0m \u001b[1m2285s\u001b[0m 6s/step - accuracy: 0.9580 - loss: 0.1034 - val_accuracy: 0.9570 - val_loss: 0.1043\n",
            "Epoch 10/10\n",
            "\u001b[1m375/375\u001b[0m \u001b[32m━━━━━━━━━━━━━━━━━━━━\u001b[0m\u001b[37m\u001b[0m \u001b[1m2239s\u001b[0m 6s/step - accuracy: 0.9618 - loss: 0.1008 - val_accuracy: 0.9697 - val_loss: 0.0784\n"
          ]
        },
        {
          "data": {
            "text/plain": [
              "<keras.src.callbacks.history.History at 0x7e154194b520>"
            ]
          },
          "execution_count": 7,
          "metadata": {},
          "output_type": "execute_result"
        }
      ],
      "source": [
        "# Compile the model\n",
        "model_3.compile(optimizer=Adam(), loss='categorical_crossentropy', metrics=['accuracy'])\n",
        "\n",
        "# Train the model with frozen base layers\n",
        "model_3.fit(train_generator, validation_data=validation_generator, epochs=10)\n"
      ]
    },
    {
      "cell_type": "code",
      "execution_count": null,
      "metadata": {
        "id": "Qb6naGA_J80P"
      },
      "outputs": [],
      "source": [
        "model_3.save('/content/drive/MyDrive/InceptionV3.keras')"
      ]
    },
    {
      "cell_type": "code",
      "execution_count": null,
      "metadata": {
        "colab": {
          "base_uri": "https://localhost:8080/"
        },
        "id": "nxuMocf1ukzF",
        "outputId": "f9bc7172-6628-45d8-c2f6-5b0e92d18fdb"
      },
      "outputs": [
        {
          "name": "stdout",
          "output_type": "stream",
          "text": [
            "\u001b[1m94/94\u001b[0m \u001b[32m━━━━━━━━━━━━━━━━━━━━\u001b[0m\u001b[37m\u001b[0m \u001b[1m475s\u001b[0m 5s/step - accuracy: 0.9695 - loss: 0.0731\n",
            "Validation Accuracy: 0.9670000076293945\n",
            "\u001b[1m375/375\u001b[0m \u001b[32m━━━━━━━━━━━━━━━━━━━━\u001b[0m\u001b[37m\u001b[0m \u001b[1m1785s\u001b[0m 5s/step - accuracy: 0.9693 - loss: 0.0812\n",
            "Training Accuracy: 0.968416690826416\n"
          ]
        }
      ],
      "source": [
        "val_loss, val_accuracy = model_3.evaluate(validation_generator)\n",
        "print(f\"Validation Accuracy: {val_accuracy}\")\n",
        "train_loss, train_accuracy = model_3.evaluate(train_generator)\n",
        "print(f\"Training Accuracy: {train_accuracy}\")"
      ]
    },
    {
      "cell_type": "code",
      "execution_count": null,
      "metadata": {
        "colab": {
          "base_uri": "https://localhost:8080/",
          "height": 859
        },
        "id": "f8sToYtCwUA8",
        "outputId": "39972482-e3d5-44f9-c17f-d616570c7f27"
      },
      "outputs": [
        {
          "name": "stdout",
          "output_type": "stream",
          "text": [
            "\u001b[1m94/94\u001b[0m \u001b[32m━━━━━━━━━━━━━━━━━━━━\u001b[0m\u001b[37m\u001b[0m \u001b[1m481s\u001b[0m 5s/step\n",
            "Confusion Matrix:\n",
            " [[337 326 337]\n",
            " [330 345 325]\n",
            " [339 325 336]]\n"
          ]
        },
        {
          "data": {
            "image/png": "[encoded data removed]",
            "text/plain": [
              "<Figure size 800x600 with 2 Axes>"
            ]
          },
          "metadata": {},
          "output_type": "display_data"
        },
        {
          "name": "stdout",
          "output_type": "stream",
          "text": [
            "\n",
            "Classification Report:\n",
            "               precision    recall  f1-score   support\n",
            "\n",
            "    lung_aca       0.33      0.34      0.34      1000\n",
            "      lung_n       0.35      0.34      0.35      1000\n",
            "    lung_scc       0.34      0.34      0.34      1000\n",
            "\n",
            "    accuracy                           0.34      3000\n",
            "   macro avg       0.34      0.34      0.34      3000\n",
            "weighted avg       0.34      0.34      0.34      3000\n",
            "\n"
          ]
        }
      ],
      "source": [
        "val_preds = model_3.predict(validation_generator)\n",
        "val_preds_classes = np.argmax(val_preds, axis=1)  # Get the index of the class with the highest prediction score\n",
        "val_true_classes = validation_generator.classes  # Get the true class labels\n",
        "\n",
        "# Confusion Matrix\n",
        "cm = confusion_matrix(val_true_classes, val_preds_classes)\n",
        "print(\"Confusion Matrix:\\n\", cm)\n",
        "\n",
        "# Plot confusion matrix\n",
        "plt.figure(figsize=(8, 6))\n",
        "sns.heatmap(cm, annot=True, fmt='d', cmap='Blues', xticklabels=validation_generator.class_indices.keys(),\n",
        "            yticklabels=validation_generator.class_indices.keys())\n",
        "plt.ylabel('Actual')\n",
        "plt.xlabel('Predicted')\n",
        "plt.title('Confusion Matrix')\n",
        "plt.show()\n",
        "\n",
        "# Classification report\n",
        "print(\"\\nClassification Report:\\n\", classification_report(val_true_classes, val_preds_classes, target_names=validation_generator.class_indices.keys()))"
      ]
    }
  ],
  "metadata": {
    "accelerator": "GPU",
    "colab": {
      "gpuType": "T4",
      "provenance": []
    },
    "kernelspec": {
      "display_name": "Python 3",
      "name": "python3"
    },
    "language_info": {
      "name": "python"
    }
  },
  "nbformat": 4,
  "nbformat_minor": 0
}
